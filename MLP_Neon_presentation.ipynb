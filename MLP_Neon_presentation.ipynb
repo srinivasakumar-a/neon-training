{
 "cells": [
  {
   "cell_type": "markdown",
   "metadata": {
    "slideshow": {
     "slide_type": "slide"
    }
   },
   "source": [
    "# Multi-Layer Perceptron for MNIST Dataset"
   ]
  },
  {
   "cell_type": "markdown",
   "metadata": {
    "slideshow": {
     "slide_type": "subslide"
    }
   },
   "source": [
    "## Perceptron "
   ]
  },
  {
   "cell_type": "markdown",
   "metadata": {
    "slideshow": {
     "slide_type": "subslide"
    }
   },
   "source": [
    "A perceptron is a single neuron model that is a precursor to larger neural networks. It is a simple binary classifer (linear) to separate data between two features."
   ]
  },
  {
   "cell_type": "code",
   "execution_count": 2,
   "metadata": {
    "slideshow": {
     "slide_type": "subslide"
    }
   },
   "outputs": [
    {
     "data": {
      "text/html": [
       "<img src=\"https://sebastianraschka.com/images/blog/2015/singlelayer_neural_networks_files/perceptron_binary.png\"/>"
      ],
      "text/plain": [
       "<IPython.core.display.Image object>"
      ]
     },
     "execution_count": 2,
     "metadata": {},
     "output_type": "execute_result"
    }
   ],
   "source": [
    "from IPython.display import Image\n",
    "from IPython.core.display import HTML \n",
    "Image(url= \"https://sebastianraschka.com/images/blog/2015/singlelayer_neural_networks_files/perceptron_binary.png\")"
   ]
  },
  {
   "cell_type": "markdown",
   "metadata": {
    "slideshow": {
     "slide_type": "slide"
    }
   },
   "source": [
    "## Multi-Layer Perceptron"
   ]
  },
  {
   "cell_type": "markdown",
   "metadata": {
    "slideshow": {
     "slide_type": "subslide"
    }
   },
   "source": [
    "The goal is to develop robust algorithms and data structures that we can use to model difficult problems.\n",
    "\n",
    "The power of neural networks come from their ability to **learn the representation** in your training data and how to best relate it to the output variable that you want to predict. In this sense neural networks learn a mapping.\n",
    "\n",
    "The predictive capability of neural networks comes from the multi-layered structure of the networks. The data structure can pick out (learn to represent) features at different scales or resolutions and combine them into higher-order features. For example from lines, to collections of lines to shapes.\n",
    "\n",
    "For more information on MLP visit https://machinelearningmastery.com/neural-networks-crash-course/"
   ]
  },
  {
   "cell_type": "markdown",
   "metadata": {
    "slideshow": {
     "slide_type": "subslide"
    }
   },
   "source": [
    "### Hidden layers"
   ]
  },
  {
   "cell_type": "markdown",
   "metadata": {
    "slideshow": {
     "slide_type": "subslide"
    }
   },
   "source": [
    "Hidden layers are called \"hidden\" because their values are not given in the input data. Instead, the previous layer of the model provides a new representation of the input."
   ]
  },
  {
   "cell_type": "code",
   "execution_count": 4,
   "metadata": {
    "scrolled": true,
    "slideshow": {
     "slide_type": "subslide"
    }
   },
   "outputs": [
    {
     "data": {
      "text/html": [
       "<img src=\"https://www.safaribooksonline.com/library/view/getting-started-with/9781786468574/graphics/B05474_04_05.jpg\"/>"
      ],
      "text/plain": [
       "<IPython.core.display.Image object>"
      ]
     },
     "execution_count": 4,
     "metadata": {},
     "output_type": "execute_result"
    }
   ],
   "source": [
    "Image(url= \"https://www.safaribooksonline.com/library/view/getting-started-with/9781786468574/graphics/B05474_04_05.jpg\")"
   ]
  },
  {
   "cell_type": "markdown",
   "metadata": {
    "slideshow": {
     "slide_type": "subslide"
    }
   },
   "source": [
    "Example of different representations between hidden layers:"
   ]
  },
  {
   "cell_type": "code",
   "execution_count": 5,
   "metadata": {
    "slideshow": {
     "slide_type": "subslide"
    }
   },
   "outputs": [
    {
     "data": {
      "text/html": [
       "<img src=\"http://playground.tensorflow.org/preview.png\"/>"
      ],
      "text/plain": [
       "<IPython.core.display.Image object>"
      ]
     },
     "execution_count": 5,
     "metadata": {},
     "output_type": "execute_result"
    }
   ],
   "source": [
    "Image(url= \"http://playground.tensorflow.org/preview.png\")"
   ]
  },
  {
   "cell_type": "markdown",
   "metadata": {
    "slideshow": {
     "slide_type": "slide"
    }
   },
   "source": [
    "## Problem "
   ]
  },
  {
   "cell_type": "markdown",
   "metadata": {
    "slideshow": {
     "slide_type": "subslide"
    }
   },
   "source": [
    "MINST is a database consisting of handwritten digits between 0-9. Each image is a 28 x 28 pixel grayscale for a total of 784 features.\n",
    "\n",
    "A multi-layer perceptron model is trained and tested on 70,000 images."
   ]
  },
  {
   "cell_type": "code",
   "execution_count": 41,
   "metadata": {
    "slideshow": {
     "slide_type": "subslide"
    }
   },
   "outputs": [
    {
     "data": {
      "text/html": [
       "<img src=\"https://guillaumebrg.files.wordpress.com/2016/01/mnist_and_mlp1.png?w=507&h=222\"/>"
      ],
      "text/plain": [
       "<IPython.core.display.Image object>"
      ]
     },
     "execution_count": 41,
     "metadata": {},
     "output_type": "execute_result"
    }
   ],
   "source": [
    "Image(url= \"https://guillaumebrg.files.wordpress.com/2016/01/mnist_and_mlp1.png?w=507&h=222\")"
   ]
  },
  {
   "cell_type": "markdown",
   "metadata": {
    "slideshow": {
     "slide_type": "slide"
    }
   },
   "source": [
    "## Generate a Backend "
   ]
  },
  {
   "cell_type": "markdown",
   "metadata": {
    "slideshow": {
     "slide_type": "subslide"
    }
   },
   "source": [
    "Neon features highly optimized CPU (MKL) and GPU computational backends for fast matrix operations. "
   ]
  },
  {
   "cell_type": "code",
   "execution_count": 20,
   "metadata": {
    "slideshow": {
     "slide_type": "subslide"
    }
   },
   "outputs": [
    {
     "data": {
      "text/plain": [
       "<neon.backends.nervanacpu.NervanaCPU at 0x10ca5ea20>"
      ]
     },
     "execution_count": 20,
     "metadata": {},
     "output_type": "execute_result"
    }
   ],
   "source": [
    "from neon.backends import gen_backend\n",
    "\n",
    "# batch_size = (num of training examples per epoch)\n",
    "gen_backend(backend='cpu', batch_size=128)"
   ]
  },
  {
   "cell_type": "markdown",
   "metadata": {
    "slideshow": {
     "slide_type": "subslide"
    }
   },
   "source": [
    "The neon backend is easily swappable, meaning that the same code will run for both the GPU and CPU backends."
   ]
  },
  {
   "cell_type": "markdown",
   "metadata": {
    "slideshow": {
     "slide_type": "slide"
    }
   },
   "source": [
    "## MNIST Data Preparation"
   ]
  },
  {
   "cell_type": "markdown",
   "metadata": {
    "slideshow": {
     "slide_type": "subslide"
    }
   },
   "source": [
    "The MNIST dataset can be found on Yann LeCunn’s website. Neon provides an easy function that downloads the MNIST dataset into your nervana/data/ directory and loads it into memory."
   ]
  },
  {
   "cell_type": "code",
   "execution_count": 6,
   "metadata": {
    "collapsed": true,
    "slideshow": {
     "slide_type": "subslide"
    }
   },
   "outputs": [],
   "source": [
    "from neon.data import MNIST\n",
    "\n",
    "mnist = MNIST()\n",
    "\n",
    "(X_train, y_train), (X_test, y_test), nclass = mnist.load_data()"
   ]
  },
  {
   "cell_type": "markdown",
   "metadata": {
    "slideshow": {
     "slide_type": "subslide"
    }
   },
   "source": [
    "This function automatically splits the images X and labels y into training (60,000 examples) and testing (10,000 examples) data. The training images X_train is a numpy array with shape (num_examples, num_features) = (60000, 784)\n",
    "\n",
    "Nclass is set to 10 to represent the 10 classes that need to be classified (digits: 0-9)"
   ]
  },
  {
   "cell_type": "markdown",
   "metadata": {
    "slideshow": {
     "slide_type": "subslide"
    }
   },
   "source": [
    "To view a sample image in the training dataset, reshape the numpy array (28, 28) and load the image using matplotlib."
   ]
  },
  {
   "cell_type": "code",
   "execution_count": 7,
   "metadata": {
    "slideshow": {
     "slide_type": "subslide"
    }
   },
   "outputs": [
    {
     "data": {
      "image/png": "[encoded data removed]",
      "text/plain": [
       "<matplotlib.figure.Figure at 0x118f26860>"
      ]
     },
     "metadata": {},
     "output_type": "display_data"
    },
    {
     "data": {
      "image/png": "[encoded data removed]",
      "text/plain": [
       "<matplotlib.figure.Figure at 0x11897fe10>"
      ]
     },
     "metadata": {},
     "output_type": "display_data"
    },
    {
     "data": {
      "image/png": "[encoded data removed]",
      "text/plain": [
       "<matplotlib.figure.Figure at 0x10c724588>"
      ]
     },
     "metadata": {},
     "output_type": "display_data"
    }
   ],
   "source": [
    "import matplotlib.pyplot as plt\n",
    "\n",
    "for i in range(3): # Show first three images in train data\n",
    "    sample_image = X_train[i].reshape(28,28)\n",
    "\n",
    "    plt.imshow(sample_image)\n",
    "\n",
    "    plt.show()"
   ]
  },
  {
   "cell_type": "markdown",
   "metadata": {
    "slideshow": {
     "slide_type": "subslide"
    }
   },
   "source": [
    "During training, neon iterates over the training examples to compute the gradients. We use the following commands to set up the ArrayIterator object that we send to the optimizer."
   ]
  },
  {
   "cell_type": "code",
   "execution_count": 8,
   "metadata": {
    "slideshow": {
     "slide_type": "subslide"
    }
   },
   "outputs": [],
   "source": [
    "from neon.data import ArrayIterator\n",
    "\n",
    "#  (num_examples, num_features) = (60000, 784).\n",
    "train_set = ArrayIterator(X_train, y_train, nclass=nclass)\n",
    "#  (num_examples, num_features) = (10000, 784).\n",
    "test_set = ArrayIterator(X_test, y_test, nclass=nclass)"
   ]
  },
  {
   "cell_type": "markdown",
   "metadata": {
    "slideshow": {
     "slide_type": "subslide"
    }
   },
   "source": [
    "Since MNIST is a small dataset, the set up for the ArrayIterator object is relatively easy. However, for large datasets that cannot fit into memory (e.g. ImageNet or Sports-1M), the data has to be efficiently loaded and fed to the optimizer in batches. This requires more advanced iterators described in Loading Data."
   ]
  },
  {
   "cell_type": "markdown",
   "metadata": {
    "slideshow": {
     "slide_type": "slide"
    }
   },
   "source": [
    "## Model specification"
   ]
  },
  {
   "cell_type": "markdown",
   "metadata": {
    "slideshow": {
     "slide_type": "subslide"
    }
   },
   "source": [
    "Hyperparameters required to the deep learning model:\n",
    "- a list of layers\n",
    "- a cost function\n",
    "- a learning rule"
   ]
  },
  {
   "cell_type": "markdown",
   "metadata": {
    "slideshow": {
     "slide_type": "slide"
    }
   },
   "source": [
    "### Model architecture: Layers "
   ]
  },
  {
   "cell_type": "markdown",
   "metadata": {
    "slideshow": {
     "slide_type": "subslide"
    }
   },
   "source": [
    "#### Initializing weights "
   ]
  },
  {
   "cell_type": "markdown",
   "metadata": {
    "slideshow": {
     "slide_type": "subslide"
    }
   },
   "source": [
    "Neon contains an array of intializers. For the MLP MNIST tutorial we intialize the weights using a Gaussian distribution with zero mean and 0.01 standard deviation."
   ]
  },
  {
   "cell_type": "code",
   "execution_count": 9,
   "metadata": {
    "slideshow": {
     "slide_type": "subslide"
    }
   },
   "outputs": [],
   "source": [
    "from neon.initializers import Gaussian\n",
    "\n",
    "def initialize_weights():\n",
    "    \"\"\"\n",
    "    This is a function to Initialize the weights using a Normal Gaussian Distribution \n",
    "    \"\"\"\n",
    "    init_norm = Gaussian(loc=0.0, scale=0.01)\n",
    "    return init_norm"
   ]
  },
  {
   "cell_type": "markdown",
   "metadata": {
    "slideshow": {
     "slide_type": "slide"
    }
   },
   "source": [
    "#### Affine layer object "
   ]
  },
  {
   "cell_type": "markdown",
   "metadata": {
    "slideshow": {
     "slide_type": "subslide"
    }
   },
   "source": [
    "Neon creates linear layers using Affine function. The parameters required are:\n",
    "- nout: desired size or shape of layer output\n",
    "- init: initializer object to use for initializing layer weights\n",
    "- activation: defines the output of the node"
   ]
  },
  {
   "cell_type": "code",
   "execution_count": 10,
   "metadata": {
    "collapsed": true,
    "slideshow": {
     "slide_type": "subslide"
    }
   },
   "outputs": [],
   "source": [
    "from neon.layers import Affine\n",
    "\n",
    "def createAffine(n_hidden,activation_func,weight_init):\n",
    "    \"\"\"\n",
    "    This method creates a AFFINE (Fully Connected Hidden Layer). \n",
    "    This is a normal linear layer used in Neural Networks.\n",
    "    \n",
    "    Params:\n",
    "    @ n_hidden        : No of hidden units to use in the layer\n",
    "    @ weight_init     : The weight Initializer to be used to initialize weights in this layer\n",
    "    @ activation_func : The activation function to be used in the layer\n",
    "    \n",
    "    Returns:\n",
    "    Affine Layer Object\n",
    "    \"\"\"\n",
    "    return Affine(nout=n_hidden, init=weight_init, activation=activation_func)"
   ]
  },
  {
   "cell_type": "markdown",
   "metadata": {
    "slideshow": {
     "slide_type": "slide"
    }
   },
   "source": [
    "#### Create hidden layers "
   ]
  },
  {
   "cell_type": "code",
   "execution_count": 11,
   "metadata": {
    "slideshow": {
     "slide_type": "subslide"
    }
   },
   "outputs": [],
   "source": [
    "from neon.transforms import Rectlin, Softmax\n",
    "\n",
    "def create_hidden_layers(layers,\n",
    "                         no_of_layers,\n",
    "                         hidden_unit_list,\n",
    "                         activ_func_list,\n",
    "                         weight_init_list):\n",
    "    \"\"\"\n",
    "    This method creates the complete hidden layer architecture.\n",
    "    \n",
    "    Params:\n",
    "    @ layers           : This is a list containing any previous layers or no layers \n",
    "    @ no_of_layers     : The no of hidden layers to create\n",
    "    @ hidden_unit_list : A list of no of hidden units to use in each layer\n",
    "    @ activ_func_list  : A list of Activation functions to be used in each layer\n",
    "    @ weight_init_list : A list of weight initializers to be used in each layer\n",
    "    \n",
    "    Returns:\n",
    "    A list of the newly created hidden layers\n",
    "    \"\"\"\n",
    "    for index,num in enumerate(hidden_unit_list):\n",
    "        layers.append(createAffine(n_hidden=num,\n",
    "                                   weight_init=weight_init_list[index],\n",
    "                                   activation_func=activ_func_list[index]))\n",
    "    return layers"
   ]
  },
  {
   "cell_type": "markdown",
   "metadata": {
    "slideshow": {
     "slide_type": "subslide"
    }
   },
   "source": [
    "The model is specified as a list of layers. For classifying MNIST images, we use a multi-layer perceptron with fully connected layers."
   ]
  },
  {
   "cell_type": "code",
   "execution_count": 12,
   "metadata": {
    "collapsed": true,
    "slideshow": {
     "slide_type": "subslide"
    }
   },
   "outputs": [],
   "source": [
    "layers = []\n",
    "no_of_layers = 3\n",
    "hidden_unit_list = [30,50,10]\n",
    "activ_func_list = [Rectlin(),Rectlin(),Softmax()]\n",
    "weight_init_list = [initialize_weights() for i in range(len(hidden_unit_list))]\n",
    "layers = create_hidden_layers(layers,\n",
    "                              no_of_layers,\n",
    "                              hidden_unit_list,\n",
    "                              activ_func_list,\n",
    "                              weight_init_list)"
   ]
  },
  {
   "cell_type": "markdown",
   "metadata": {
    "slideshow": {
     "slide_type": "subslide"
    }
   },
   "source": [
    "Three Affine layers are created:\n",
    "- 1st hidden layer with 30 hidden units and a rectified linear activation function, Rectlin()\n",
    "- 2nd hidden layer with 50 hidden units and a rectified linear activation function, Rectlin()\n",
    "- Output layer with 10 units to match the number of labels (classes) in the MNIST dataset. Activation function Softmax() is used to ensure the outputs sum to one and are within the range [0,1]"
   ]
  },
  {
   "cell_type": "markdown",
   "metadata": {
    "slideshow": {
     "slide_type": "slide"
    }
   },
   "source": [
    "### Initalize model object "
   ]
  },
  {
   "cell_type": "markdown",
   "metadata": {
    "slideshow": {
     "slide_type": "subslide"
    }
   },
   "source": [
    "Construct the model"
   ]
  },
  {
   "cell_type": "code",
   "execution_count": 13,
   "metadata": {
    "collapsed": true,
    "slideshow": {
     "slide_type": "subslide"
    }
   },
   "outputs": [],
   "source": [
    "from neon.models import Model\n",
    "\n",
    "mlp = Model(layers=layers)"
   ]
  },
  {
   "cell_type": "markdown",
   "metadata": {
    "slideshow": {
     "slide_type": "slide"
    }
   },
   "source": [
    "### Cost "
   ]
  },
  {
   "cell_type": "markdown",
   "metadata": {
    "slideshow": {
     "slide_type": "subslide"
    }
   },
   "source": [
    "The cost function is wrapped within a GeneralizedCost layer, which handles the comparison of the outputs with the provided labels in the dataset. One common cost function which we use here is the cross entropy loss."
   ]
  },
  {
   "cell_type": "code",
   "execution_count": 14,
   "metadata": {
    "slideshow": {
     "slide_type": "subslide"
    }
   },
   "outputs": [],
   "source": [
    "from neon.layers import GeneralizedCost\n",
    "from neon.transforms import CrossEntropyMulti\n",
    "\n",
    "cost = GeneralizedCost(costfunc=CrossEntropyMulti())"
   ]
  },
  {
   "cell_type": "markdown",
   "metadata": {
    "slideshow": {
     "slide_type": "subslide"
    }
   },
   "source": [
    "Benefits of cost function:\n",
    "- make our networks better at generalizing beyond the training data\n",
    "- better method for intializing the weights in the network\n",
    "- set of heuristics to help choose good hyper-parameters"
   ]
  },
  {
   "cell_type": "markdown",
   "metadata": {
    "slideshow": {
     "slide_type": "slide"
    }
   },
   "source": [
    "### Learning rules "
   ]
  },
  {
   "cell_type": "markdown",
   "metadata": {
    "slideshow": {
     "slide_type": "subslide"
    }
   },
   "source": [
    "For learning, we use stochastic gradient descent with a learning rate of 0.1 and momentum coefficient of 0.9."
   ]
  },
  {
   "cell_type": "code",
   "execution_count": 16,
   "metadata": {
    "collapsed": true,
    "slideshow": {
     "slide_type": "subslide"
    }
   },
   "outputs": [],
   "source": [
    "from neon.optimizers import GradientDescentMomentum\n",
    "\n",
    "optimizer = GradientDescentMomentum(0.1, momentum_coef=0.9)"
   ]
  },
  {
   "cell_type": "markdown",
   "metadata": {
    "slideshow": {
     "slide_type": "slide"
    }
   },
   "source": [
    "### Callbacks "
   ]
  },
  {
   "cell_type": "markdown",
   "metadata": {
    "slideshow": {
     "slide_type": "subslide"
    }
   },
   "source": [
    "Neon provides an API for calling operations during the model fit. Here we set up the default callback, which is displaying a progress bar for each epoch."
   ]
  },
  {
   "cell_type": "code",
   "execution_count": 19,
   "metadata": {
    "slideshow": {
     "slide_type": "subslide"
    }
   },
   "outputs": [],
   "source": [
    "from neon.callbacks.callbacks import Callbacks\n",
    "from neon.callbacks.callbacks import ProgressBarCallback\n",
    "\n",
    "callbacks = Callbacks(mlp, eval_set=test_set)\n",
    "callbacks.add_callback(ProgressBarCallback())"
   ]
  },
  {
   "cell_type": "markdown",
   "metadata": {
    "slideshow": {
     "slide_type": "slide"
    }
   },
   "source": [
    "## Fit the model "
   ]
  },
  {
   "cell_type": "markdown",
   "metadata": {
    "slideshow": {
     "slide_type": "subslide"
    }
   },
   "source": [
    "At the beginning of the fitting procedure, neon propagates train_set through the model to set the input and output shapes of each layer. Each layer has a configure() method that determines the appropriate layer shapes, and an allocate() method to set up the needed buffers for holding the forward propagation information.\n",
    "\n",
    "During the training, neon sends batches of the training data through the model, calling each layers’ fprop() and bprop() methods to compute the gradients and update the weights."
   ]
  },
  {
   "cell_type": "code",
   "execution_count": 25,
   "metadata": {
    "slideshow": {
     "slide_type": "subslide"
    }
   },
   "outputs": [
    {
     "name": "stdout",
     "output_type": "stream",
     "text": [
      "Epoch 0   [Train |████████████████████|  469/469  batches, 0.24 cost, 3.39s]\n",
      "\n",
      "Epoch 1   [Train |████████████████████|  469/469  batches, 0.15 cost, 3.71s]\n",
      "\n",
      "Epoch 2   [Train |████████████████████|  469/469  batches, 0.12 cost, 3.91s]\n",
      "\n",
      "Epoch 3   [Train |████████████████████|  468/468  batches, 0.11 cost, 3.83s]\n",
      "\n",
      "Epoch 4   [Train |████████████████████|  468/468  batches, 0.12 cost, 3.94s]\n",
      "\n",
      "Epoch 5   [Train |████████████████████|  468/468  batches, 0.11 cost, 3.97s]\n",
      "\n",
      "Epoch 6   [Train |████████████████████|  468/468  batches, 0.12 cost, 3.98s]\n",
      "\n",
      "Epoch 7   [Train |████████████████████|  468/468  batches, 0.09 cost, 4.16s]\n",
      "\n",
      "Epoch 8   [Train |████████████████████|  468/468  batches, 0.09 cost, 3.94s]\n",
      "\n",
      "Epoch 9   [Train |████████████████████|  468/468  batches, 0.09 cost, 3.90s]\n",
      "\n"
     ]
    }
   ],
   "source": [
    "mlp.fit(dataset=train_set,\n",
    "        optimizer=optimizer,\n",
    "        num_epochs=10, # epoch = (num of passes of all the training examples)\n",
    "        cost=cost,\n",
    "        callbacks=callbacks)"
   ]
  },
  {
   "cell_type": "markdown",
   "metadata": {
    "slideshow": {
     "slide_type": "slide"
    }
   },
   "source": [
    "## Using the trained model "
   ]
  },
  {
   "cell_type": "markdown",
   "metadata": {
    "slideshow": {
     "slide_type": "subslide"
    }
   },
   "source": [
    "The model is now trained, we can used the trained model to classify an image, measure performance, and visualize the weights and training results."
   ]
  },
  {
   "cell_type": "markdown",
   "metadata": {
    "slideshow": {
     "slide_type": "subslide"
    }
   },
   "source": [
    "### Inference "
   ]
  },
  {
   "cell_type": "markdown",
   "metadata": {
    "slideshow": {
     "slide_type": "subslide"
    }
   },
   "source": [
    "Given the images from the test_set, fetch the output of the final model layer."
   ]
  },
  {
   "cell_type": "code",
   "execution_count": 28,
   "metadata": {
    "collapsed": true,
    "slideshow": {
     "slide_type": "subslide"
    }
   },
   "outputs": [],
   "source": [
    "# (num_test_examples, num_outputs) = (10000,10)\n",
    "results = mlp.get_outputs(test_set)"
   ]
  },
  {
   "cell_type": "markdown",
   "metadata": {
    "slideshow": {
     "slide_type": "slide"
    }
   },
   "source": [
    "### Performance "
   ]
  },
  {
   "cell_type": "markdown",
   "metadata": {
    "slideshow": {
     "slide_type": "subslide"
    }
   },
   "source": [
    "Neon supports functions for evaluating performance using custom metrics. Here we measure the misclassification rate on the held out test set."
   ]
  },
  {
   "cell_type": "code",
   "execution_count": 27,
   "metadata": {
    "slideshow": {
     "slide_type": "subslide"
    }
   },
   "outputs": [
    {
     "name": "stdout",
     "output_type": "stream",
     "text": [
      "Misclassification error = 5.5%\n"
     ]
    }
   ],
   "source": [
    "from neon.transforms import Misclassification\n",
    "\n",
    "# evaluate the model on test_set using the misclassification metric\n",
    "error = mlp.eval(test_set, metric=Misclassification())*100\n",
    "print('Misclassification error = %.1f%%' % error)"
   ]
  },
  {
   "cell_type": "markdown",
   "metadata": {
    "slideshow": {
     "slide_type": "slide"
    }
   },
   "source": [
    "### View misclassified images "
   ]
  },
  {
   "cell_type": "code",
   "execution_count": 92,
   "metadata": {
    "slideshow": {
     "slide_type": "subslide"
    }
   },
   "outputs": [
    {
     "name": "stdout",
     "output_type": "stream",
     "text": [
      "Model misclassified image as: 7\n",
      "Correct image label is: 9\n"
     ]
    },
    {
     "data": {
      "image/png": "[encoded data removed]",
      "text/plain": [
       "<matplotlib.figure.Figure at 0x1187253c8>"
      ]
     },
     "metadata": {},
     "output_type": "display_data"
    }
   ],
   "source": [
    "import numpy as np\n",
    "\n",
    "misclassified_img = []\n",
    "for row in range(results.shape[0]):\n",
    "    a = results[row]\n",
    "    i = np.unravel_index(a.argmax(), a.shape)\n",
    "\n",
    "    if (i[0] == y_test[row]) == False:\n",
    "        misclassified_img.append(row)\n",
    "\n",
    "a = results[misclassified_img[0]]\n",
    "i = np.unravel_index(a.argmax(), a.shape)\n",
    "\n",
    "print('Model misclassified image as:', i[0])\n",
    "print('Correct image label is:', y_test[misclassified_img[0]])\n",
    "\n",
    "plt.imshow(X_test[misclassified_img[0]].reshape(28,28))\n",
    "\n",
    "plt.show()"
   ]
  }
 ],
 "metadata": {
  "celltoolbar": "Slideshow",
  "kernelspec": {
   "display_name": "Python 3",
   "language": "python",
   "name": "python3"
  },
  "language_info": {
   "codemirror_mode": {
    "name": "ipython",
    "version": 3
   },
   "file_extension": ".py",
   "mimetype": "text/x-python",
   "name": "python",
   "nbconvert_exporter": "python",
   "pygments_lexer": "ipython3",
   "version": "3.5.2"
  }
 },
 "nbformat": 4,
 "nbformat_minor": 2
}
