{
 "cells": [
  {
   "cell_type": "markdown",
   "metadata": {},
   "source": [
    "# Convolutional Neural Network - MNIST"
   ]
  },
  {
   "cell_type": "code",
   "execution_count": 4,
   "metadata": {},
   "outputs": [],
   "source": [
    "\n",
    "from neon.backends import gen_backend\n",
    "from neon.layers import Conv, Affine, Pooling\n",
    "from neon.initializers import Uniform\n",
    "from neon.data import ArrayIterator\n",
    "from neon.transforms.activation import Rectlin, Softmax\n",
    "from neon.callbacks.callbacks import ProgressBarCallback\n",
    "from neon.data import MNIST\n",
    "from neon.layers import GeneralizedCost\n",
    "from neon.transforms import CrossEntropyMulti\n",
    "from neon.models import Model\n",
    "from neon.optimizers import GradientDescentMomentum, RMSProp\n",
    "from neon.callbacks.callbacks import Callbacks\n",
    "from neon.transforms import Misclassification, Accuracy"
   ]
  },
  {
   "cell_type": "code",
   "execution_count": 5,
   "metadata": {},
   "outputs": [
    {
     "name": "stdout",
     "output_type": "stream",
     "text": [
      "Epoch 0   [Train |████████████████████|  469/469  batches, 0.11 cost, 98.83s]\n",
      "Epoch 1   [Train |████████████████████|  469/469  batches, 0.08 cost, 99.63s]\n",
      "Epoch 2   [Train |████████████████████|  469/469  batches, 0.07 cost, 99.00s]\n",
      "Misclassification error = 2.1%\n",
      "Train Accuracy = 97.9%\n"
     ]
    }
   ],
   "source": [
    "# Step 1: Setup Backend to Use CPU\n",
    "be = gen_backend(backend='cpu', batch_size=128)\n",
    "\n",
    "# Step 2: Setup a MNIST DataLoader\n",
    "MNIST = MNIST()\n",
    "train_set = MNIST.train_iter\n",
    "test_set = MNIST.valid_iter\n",
    "\n",
    "# Step 3: Create an Initializer for the weights\n",
    "init_uni = Uniform(low=-0.1, high=0.1)\n",
    "\n",
    "# Step 4: Create the network Architecture \n",
    "layers = [Conv(fshape=(5,5,14), init=init_uni, activation=Rectlin()),\n",
    "          Pooling(fshape=2, strides=2),\n",
    "          Conv(fshape=(5,5,28), init=init_uni, activation=Rectlin()),\n",
    "          Pooling(fshape=2, strides=2),\n",
    "          Affine(nout=500, init=init_uni, activation=Rectlin()),\n",
    "          Affine(nout=10, init=init_uni, activation=Softmax())]\n",
    "\n",
    "# Step 5: Create Model Object using the layers defined above\n",
    "model = Model(layers)\n",
    "\n",
    "# Step 6: Create our Cost/Loss Function\n",
    "cost = GeneralizedCost(costfunc=CrossEntropyMulti())\n",
    "\n",
    "# Step 7: Define our Optimizer\n",
    "optimizer = GradientDescentMomentum(learning_rate=0.005,\n",
    "                                    momentum_coef=0.9)\n",
    "\n",
    "# Step 8: Define our Callback to check progress during Training\n",
    "callbacks = Callbacks(model, train_set)\n",
    "\n",
    "# Step 9: Run the model\n",
    "model.fit(dataset=train_set, cost=cost, optimizer=optimizer,  num_epochs=3, callbacks=callbacks)\n",
    "\n",
    "# Step 10: Calculate our Error % \n",
    "error_pct = 100 * model.eval(test_set, metric=Misclassification())\n",
    "print('Misclassification error = %.1f%%' % error_pct)\n",
    "acc_pct = 100 * model.eval(test_set, metric=Accuracy())\n",
    "print('Test Accuracy = %.1f%%' % acc_pct)\n"
   ]
  },
  {
   "cell_type": "code",
   "execution_count": null,
   "metadata": {
    "collapsed": true
   },
   "outputs": [],
   "source": []
  }
 ],
 "metadata": {
  "kernelspec": {
   "display_name": "Python 3",
   "language": "python",
   "name": "python3"
  },
  "language_info": {
   "codemirror_mode": {
    "name": "ipython",
    "version": 3
   },
   "file_extension": ".py",
   "mimetype": "text/x-python",
   "name": "python",
   "nbconvert_exporter": "python",
   "pygments_lexer": "ipython3",
   "version": "3.5.2"
  }
 },
 "nbformat": 4,
 "nbformat_minor": 2
}
